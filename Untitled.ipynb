{
 "cells": [
  {
   "cell_type": "code",
   "execution_count": null,
   "id": "c51c36f7",
   "metadata": {},
   "outputs": [],
   "source": [
    "list1=[\"abc\",3,4]\n",
    "print(len(list1))"
   ]
  },
  {
   "cell_type": "code",
   "execution_count": null,
   "id": "506d8fb0",
   "metadata": {},
   "outputs": [],
   "source": [
    "list2=[1,2,3]\n",
    "list3=list1+list2\n",
    "print(list3)\n",
    "list2=list2*2\n",
    "print(list2)"
   ]
  },
  {
   "cell_type": "code",
   "execution_count": null,
   "id": "32db3972",
   "metadata": {},
   "outputs": [],
   "source": [
    "print (list2[3])"
   ]
  },
  {
   "cell_type": "code",
   "execution_count": null,
   "id": "ae945b95",
   "metadata": {},
   "outputs": [],
   "source": [
    "list2[3]=\"2321\"\n",
    "print(list2)"
   ]
  },
  {
   "cell_type": "code",
   "execution_count": null,
   "id": "233a8f17",
   "metadata": {},
   "outputs": [],
   "source": [
    "list2[1:6]"
   ]
  },
  {
   "cell_type": "code",
   "execution_count": null,
   "id": "5c3376c8",
   "metadata": {},
   "outputs": [],
   "source": [
    "del list2[3]"
   ]
  },
  {
   "cell_type": "code",
   "execution_count": null,
   "id": "4ebe2fd5",
   "metadata": {},
   "outputs": [],
   "source": [
    "print(list2)"
   ]
  },
  {
   "cell_type": "code",
   "execution_count": null,
   "id": "cd7544f3",
   "metadata": {},
   "outputs": [],
   "source": [
    "print(list2[-3:])\n",
    "print(list2[2:])\n",
    "print(list2[:2])"
   ]
  },
  {
   "cell_type": "code",
   "execution_count": null,
   "id": "7458d80a",
   "metadata": {},
   "outputs": [],
   "source": [
    "thislist=(\"apple\",\"banana\",1999,1982)\n",
    "for i in range(len(thislist)):\n",
    "    print(thislist[i])"
   ]
  },
  {
   "cell_type": "code",
   "execution_count": null,
   "id": "6a9be110",
   "metadata": {},
   "outputs": [],
   "source": [
    "for x in thislist:\n",
    "    print(x)"
   ]
  },
  {
   "cell_type": "code",
   "execution_count": null,
   "id": "144a67ca",
   "metadata": {},
   "outputs": [],
   "source": [
    "i=0\n",
    "while(i<len(thislist)):\n",
    "    print(thislist[i])\n",
    "    i=i+1\n",
    "    print(i)"
   ]
  },
  {
   "cell_type": "code",
   "execution_count": null,
   "id": "3b68f991",
   "metadata": {},
   "outputs": [],
   "source": [
    "for x in list2:\n",
    "    list1.append(x)\n",
    "print(list1)"
   ]
  },
  {
   "cell_type": "code",
   "execution_count": null,
   "id": "219e46fb",
   "metadata": {},
   "outputs": [],
   "source": [
    "newlist1=[x for x in range(10)]\n",
    "newlist2=[x for x in range(10) if x<5]\n",
    "fruits = [\"apple\",\"banana\",\"cherry\"]\n",
    "newlist3=[x.upper() for x in fruits]\n",
    "print(newlist1,newlist2,newlist3)\n",
    "newlist2 =['hello'for x in fruits]\n",
    "newlist=[x if x!=\"banana\" else\"orange\" for x in fruits]\n",
    "print(newlist2,newlist)\n"
   ]
  },
  {
   "cell_type": "code",
   "execution_count": null,
   "id": "b8417dbf",
   "metadata": {},
   "outputs": [],
   "source": [
    "fruits = [\"apple\",\"banana\",\"cherry\"]\n",
    "newlist=[x for x in fruits if \"a\"in x]\n",
    "print(newlist)\n"
   ]
  },
  {
   "cell_type": "code",
   "execution_count": null,
   "id": "4c6abee8",
   "metadata": {},
   "outputs": [],
   "source": [
    "list=[\"marketing \",\"content\"]\n",
    "print(list)"
   ]
  },
  {
   "cell_type": "code",
   "execution_count": null,
   "id": "dbd5bbff",
   "metadata": {},
   "outputs": [],
   "source": [
    "print(type(list))"
   ]
  },
  {
   "cell_type": "code",
   "execution_count": null,
   "id": "fb5d6be2",
   "metadata": {},
   "outputs": [],
   "source": [
    "A={1,2,3}\n",
    "B={4,5,6,3}\n",
    "print(A|B)"
   ]
  },
  {
   "cell_type": "code",
   "execution_count": null,
   "id": "7784b20e",
   "metadata": {},
   "outputs": [],
   "source": [
    "print(A&B)"
   ]
  },
  {
   "cell_type": "code",
   "execution_count": null,
   "id": "1737fdad",
   "metadata": {},
   "outputs": [],
   "source": [
    "print(A-B)"
   ]
  },
  {
   "cell_type": "code",
   "execution_count": null,
   "id": "de08c6b1",
   "metadata": {},
   "outputs": [],
   "source": [
    "list=['python','Net']\n",
    "list.append(\"java\")\n",
    "print(\"\\n\",list)\n",
    "list.extend([\"C\",\"C#\"])\n",
    "print(\"\\n\",list)\n",
    "list.insert(1,\"C\")\n",
    "print(\"\\n\",list)\n",
    "list.remove(\"C\")\n",
    "print(\"\\n\",list)\n",
    "print(\"\\n\",sorted(list))\n",
    "print(\"\\n\",list[::-1])"
   ]
  },
  {
   "cell_type": "code",
   "execution_count": null,
   "id": "a75d60f1",
   "metadata": {},
   "outputs": [],
   "source": [
    "tuple1=(\"apple\",\"banana\",\"cherry\")\n",
    "tuple2=(1,2,3,4,5)\n",
    "tuple3=(\"a\",\"b\",\"c\",\"d\")\n",
    "print(tuple1[1:3])\n"
   ]
  },
  {
   "cell_type": "code",
   "execution_count": null,
   "id": "454b24fc",
   "metadata": {},
   "outputs": [],
   "source": [
    "if \"apple\"in tuple1:\n",
    "    print(\"yes\")"
   ]
  },
  {
   "cell_type": "code",
   "execution_count": null,
   "id": "7323057c",
   "metadata": {},
   "outputs": [],
   "source": [
    "print(tuple1[-1])"
   ]
  },
  {
   "cell_type": "code",
   "execution_count": null,
   "id": "d20151be",
   "metadata": {},
   "outputs": [],
   "source": [
    "for x in range (len(tuple2)):\n",
    "    print(x)"
   ]
  },
  {
   "cell_type": "code",
   "execution_count": null,
   "id": "e600fe67",
   "metadata": {},
   "outputs": [],
   "source": [
    "for x in  tuple1:\n",
    "    print(x)"
   ]
  },
  {
   "cell_type": "code",
   "execution_count": null,
   "id": "793c95c5",
   "metadata": {},
   "outputs": [],
   "source": [
    "x=(\"apple\",\"banana\",\"cherry\")\n",
    "y=list(x)\n",
    "y[1]=\"kiwi\"\n",
    "x=tuple(y)\n",
    "print(x)"
   ]
  },
  {
   "cell_type": "code",
   "execution_count": null,
   "id": "19ad8873",
   "metadata": {},
   "outputs": [],
   "source": [
    "thistuple=(\"apple\",\"banana\",\"cherry\")\n",
    "y=(\"orrange\",)\n",
    "thistuple+=y\n",
    "print(thistuple)"
   ]
  },
  {
   "cell_type": "code",
   "execution_count": null,
   "id": "6e24b9b6",
   "metadata": {
    "scrolled": true
   },
   "outputs": [],
   "source": [
    "y=list(thistuple)\n",
    "y.remove(\"apple\")\n",
    "thistuple=tuple(y)\n",
    "print(thistuple)"
   ]
  },
  {
   "cell_type": "code",
   "execution_count": null,
   "id": "57cc7112",
   "metadata": {},
   "outputs": [],
   "source": [
    "thisset={\"apple\",\"banana\",\"cherry\"}\n",
    "print(len(thisset))"
   ]
  },
  {
   "cell_type": "code",
   "execution_count": null,
   "id": "933da611",
   "metadata": {},
   "outputs": [],
   "source": [
    "set={\"apple\",\"banana\",\"cherry\"}\n",
    "set1={1,2,3,4,5}\n",
    "set3={\"true\",\"false\",\"True\"}\n",
    "print(set,set1,set3)"
   ]
  },
  {
   "cell_type": "code",
   "execution_count": null,
   "id": "dc656c04",
   "metadata": {},
   "outputs": [],
   "source": [
    "print(type(set))"
   ]
  },
  {
   "cell_type": "code",
   "execution_count": null,
   "id": "6ec2cdcc",
   "metadata": {},
   "outputs": [],
   "source": [
    "print(\"banana\"in set)"
   ]
  },
  {
   "cell_type": "code",
   "execution_count": null,
   "id": "281f6718",
   "metadata": {},
   "outputs": [],
   "source": [
    "for x in set:\n",
    "    print(x)"
   ]
  },
  {
   "cell_type": "code",
   "execution_count": null,
   "id": "a5747c1b",
   "metadata": {},
   "outputs": [],
   "source": [
    "set.add(\"orange\")\n",
    "print(set)"
   ]
  },
  {
   "cell_type": "code",
   "execution_count": null,
   "id": "15421f6f",
   "metadata": {},
   "outputs": [],
   "source": [
    "set.update(set1)\n",
    "print(set)"
   ]
  },
  {
   "cell_type": "code",
   "execution_count": null,
   "id": "2a67101e",
   "metadata": {},
   "outputs": [],
   "source": [
    "x=set1.pop()\n",
    "print(x)\n",
    "print(set1)"
   ]
  },
  {
   "cell_type": "code",
   "execution_count": null,
   "id": "88ac5267",
   "metadata": {},
   "outputs": [],
   "source": [
    "set1.clear()\n",
    "print(set1)"
   ]
  },
  {
   "cell_type": "code",
   "execution_count": null,
   "id": "82496629",
   "metadata": {},
   "outputs": [],
   "source": [
    "del set\n",
    "print(set)"
   ]
  },
  {
   "cell_type": "code",
   "execution_count": null,
   "id": "411d1b1b",
   "metadata": {},
   "outputs": [],
   "source": [
    "def compare_to_five(y):\n",
    "    if(y>5):\n",
    "        return \"greater\"\n",
    "    elif(y<0):\n",
    "        return \"negative\"\n",
    "    elif (y<5):\n",
    "        return \"less\"\n",
    "    else :\n",
    "        return \"equal\""
   ]
  },
  {
   "cell_type": "code",
   "execution_count": null,
   "id": "68cb1bbe",
   "metadata": {},
   "outputs": [],
   "source": [
    "compare_to_five(-1)"
   ]
  },
  {
   "cell_type": "code",
   "execution_count": null,
   "id": "5205b273",
   "metadata": {},
   "outputs": [],
   "source": [
    "compare_to_five(-1)"
   ]
  },
  {
   "cell_type": "code",
   "execution_count": null,
   "id": "32ee36cd",
   "metadata": {},
   "outputs": [],
   "source": [
    "compare_to_five(7)"
   ]
  },
  {
   "cell_type": "code",
   "execution_count": null,
   "id": "9b4e786f",
   "metadata": {},
   "outputs": [],
   "source": [
    "x=35e5\n",
    "y=12E3\n",
    "print(type(x))\n",
    "print(type(y))"
   ]
  },
  {
   "cell_type": "code",
   "execution_count": null,
   "id": "8a8490b0",
   "metadata": {},
   "outputs": [],
   "source": [
    "x=3+4j\n",
    "y=5-8j\n",
    "print(type(x))\n",
    "print(type(y))"
   ]
  },
  {
   "cell_type": "code",
   "execution_count": null,
   "id": "d26f82e0",
   "metadata": {},
   "outputs": [],
   "source": [
    "x=1\n",
    "y=2.8\n",
    "z=1j\n",
    "a=float(x)\n",
    "b=int(y)\n",
    "c=complex(x)\n",
    "print(a)\n",
    "print(b)\n",
    "print(c)\n",
    "print(type(a))\n",
    "print(type(b))\n",
    "print(type(c))"
   ]
  },
  {
   "cell_type": "code",
   "execution_count": null,
   "id": "10a5ff6d",
   "metadata": {},
   "outputs": [],
   "source": [
    "print(bool(\"hello\"))"
   ]
  },
  {
   "cell_type": "code",
   "execution_count": null,
   "id": "1fd30882",
   "metadata": {},
   "outputs": [],
   "source": [
    "x=int(1)\n",
    "y=float(2.3)\n",
    "z=int(\"3\")\n",
    "print(x,y,z)"
   ]
  },
  {
   "cell_type": "code",
   "execution_count": null,
   "id": "7755177a",
   "metadata": {},
   "outputs": [],
   "source": [
    "a=200\n",
    "b=33\n",
    "if a>b:\n",
    "    print(\"b\")\n",
    "else:\n",
    "    print(\"a\")"
   ]
  },
  {
   "cell_type": "code",
   "execution_count": null,
   "id": "b134d382",
   "metadata": {},
   "outputs": [],
   "source": [
    "print(isinstance(a,int))"
   ]
  },
  {
   "cell_type": "code",
   "execution_count": null,
   "id": "4b8e6806",
   "metadata": {},
   "outputs": [],
   "source": [
    "print(bool(a))"
   ]
  },
  {
   "cell_type": "code",
   "execution_count": null,
   "id": "4c719115",
   "metadata": {},
   "outputs": [],
   "source": [
    "y=\"adad\"\n",
    "print(bool(y))"
   ]
  },
  {
   "cell_type": "code",
   "execution_count": null,
   "id": "c91db768",
   "metadata": {},
   "outputs": [],
   "source": [
    "bool(False)\n",
    "bool(None)\n",
    "bool(0)\n",
    "bool(\"\")\n",
    "bool([])\n",
    "bool(())\n",
    "bool([])\n",
    "bool({})"
   ]
  },
  {
   "cell_type": "code",
   "execution_count": null,
   "id": "7246923f",
   "metadata": {},
   "outputs": [],
   "source": [
    "def myfunc():\n",
    "    return True\n",
    "\n",
    "print(myfunc())"
   ]
  },
  {
   "cell_type": "code",
   "execution_count": null,
   "id": "cf323eec",
   "metadata": {},
   "outputs": [],
   "source": [
    "if(myfunc()):\n",
    "    print(\"YeS\")\n",
    "else:\n",
    "    print(\"No\")"
   ]
  },
  {
   "cell_type": "code",
   "execution_count": null,
   "id": "0aacda95",
   "metadata": {},
   "outputs": [],
   "source": [
    "def change(mylist):\n",
    "    mylist.append([1,2,3,4])\n",
    "    print(mylist)\n",
    "    return\n",
    "\n",
    "mylist=[10,20,30]\n",
    "change(mylist)\n",
    "print(mylist)"
   ]
  },
  {
   "cell_type": "code",
   "execution_count": null,
   "id": "97cbe0af",
   "metadata": {},
   "outputs": [],
   "source": [
    "def change(mylist):\n",
    "    mylist=[1,2,3,4]\n",
    "    print(mylist)\n",
    "    return\n",
    "mylist=[10,20,30]\n",
    "change(mylist)\n",
    "print(mylist)"
   ]
  },
  {
   "cell_type": "code",
   "execution_count": null,
   "id": "62eb0071",
   "metadata": {},
   "outputs": [],
   "source": [
    "def fn(str):\n",
    "    print(str)\n",
    "    return\n",
    "fn(4)"
   ]
  },
  {
   "cell_type": "code",
   "execution_count": null,
   "id": "2e4c5312",
   "metadata": {},
   "outputs": [],
   "source": [
    "def fn(mylist):\n",
    "    print(mylist)\n",
    "    return\n",
    "fn(mylist=\"str\")"
   ]
  },
  {
   "cell_type": "code",
   "execution_count": null,
   "id": "c14980c0",
   "metadata": {},
   "outputs": [],
   "source": [
    "def fn(age,name):\n",
    "    print(age, name)\n",
    "    return\n",
    "fn(age=14,name=\"ritik\")\n"
   ]
  },
  {
   "cell_type": "code",
   "execution_count": null,
   "id": "48cb8d9e",
   "metadata": {},
   "outputs": [],
   "source": [
    "def fn(name,age=14):\n",
    "    print(age, name)\n",
    "    return\n",
    "fn(name=\"ritik\")"
   ]
  },
  {
   "cell_type": "code",
   "execution_count": null,
   "id": "3a6e3699",
   "metadata": {},
   "outputs": [],
   "source": [
    "def fn(age,*varia):\n",
    "    print(\"output\")\n",
    "    print(age)\n",
    "    for var in varia:\n",
    "        print(\"hi\")\n",
    "        print (var)\n",
    "fn(10)\n",
    "fn(10,20,30)"
   ]
  },
  {
   "cell_type": "code",
   "execution_count": null,
   "id": "c0b7f08f",
   "metadata": {},
   "outputs": [],
   "source": [
    "sum=lambda arg1,arg2:arg1+arg2\n",
    "print(sum(10,20))\n",
    "print(sum(30,40))\n"
   ]
  },
  {
   "cell_type": "code",
   "execution_count": null,
   "id": "6e716d98",
   "metadata": {},
   "outputs": [],
   "source": [
    "x=lambda a:a/10\n",
    "print(x(5))\n",
    "x=lambda a,b:a*b\n",
    "print(x(5,6))\n",
    "x=lambda a,b,c:a+b/c\n",
    "print(x(5,6,8))\n",
    "\n"
   ]
  },
  {
   "cell_type": "code",
   "execution_count": null,
   "id": "8206c5b2",
   "metadata": {},
   "outputs": [],
   "source": [
    "def myfunc(n):\n",
    "    return lambda a:a*n\n",
    "mydoubler=myfunc(2)\n",
    "print(myfunc(2))\n",
    "print(mydoubler(11))"
   ]
  },
  {
   "cell_type": "code",
   "execution_count": null,
   "id": "d0680a2d",
   "metadata": {},
   "outputs": [],
   "source": [
    "def myfunc(n):\n",
    "    return lambda a:a*n\n",
    "mytriple=myfunc(3)\n",
    "print(mytriple(10))"
   ]
  },
  {
   "cell_type": "code",
   "execution_count": null,
   "id": "6718eac3",
   "metadata": {},
   "outputs": [],
   "source": [
    "car={\n",
    "    \"brand\":\"Ford\",\n",
    "    \"model\":\"mustang\",\n",
    "    \"year\": 1964 \n",
    "}\n",
    "x=car.values()\n",
    "print(x)\n",
    "car[\"year\"]=2020\n",
    "print(x)"
   ]
  },
  {
   "cell_type": "code",
   "execution_count": null,
   "id": "c9dac6e7",
   "metadata": {},
   "outputs": [],
   "source": [
    "car={\n",
    "    \"brand\":\"Ford\",\n",
    "    \"model\":\"mustang\",\n",
    "    \"year\": 1964,\n",
    "    \"color\":[\"red\",\"white\",\"blue\"]\n",
    "}\n",
    "car"
   ]
  },
  {
   "cell_type": "code",
   "execution_count": null,
   "id": "fe05ed79",
   "metadata": {},
   "outputs": [],
   "source": [
    "print(car)"
   ]
  },
  {
   "cell_type": "code",
   "execution_count": null,
   "id": "3d4a0897",
   "metadata": {},
   "outputs": [],
   "source": [
    "print(car[\"year\"])"
   ]
  },
  {
   "cell_type": "code",
   "execution_count": null,
   "id": "4f189d09",
   "metadata": {},
   "outputs": [],
   "source": [
    "car={\n",
    "    \"brand\":\"Ford\",\n",
    "    \"model\":\"mustang\",\n",
    "    \"year\": 1964,\n",
    "}\n",
    "\n",
    "x=car.keys()\n",
    "print(x)\n",
    "car[\"color\"]=\"white\"\n",
    "print(x)"
   ]
  },
  {
   "cell_type": "code",
   "execution_count": null,
   "id": "c36ba183",
   "metadata": {},
   "outputs": [],
   "source": [
    "dic={}\n",
    "dict1={1:'apple',2:'ball'}\n",
    "dict2={'name':'john',1:[2,3,4]}\n",
    "dict3=dict({1:\"apple\",2:\"ball\"})\n",
    "dict4=dict([(1,'apple'),(2,'ball')])\n",
    "print(dict1,dict2,dict3,dict4)"
   ]
  },
  {
   "cell_type": "code",
   "execution_count": null,
   "id": "854c709a",
   "metadata": {},
   "outputs": [],
   "source": [
    "my_dict={\"name\":\"jack\",'age':26}\n",
    "print(my_dict['name'])\n",
    "print(my_dict.get('age'))\n",
    "print(my_dict.get('address'))\n",
    "#print(my_dict[address])\n",
    "\n",
    "\n"
   ]
  },
  {
   "cell_type": "code",
   "execution_count": 1,
   "id": "858077df",
   "metadata": {},
   "outputs": [
    {
     "name": "stdout",
     "output_type": "stream",
     "text": [
      "{'Maths': None, 'English': None, 'Science': None}\n",
      "('Maths', None)\n",
      "('English', None)\n",
      "('Science', None)\n",
      "['English', 'Maths', 'Science']\n"
     ]
    }
   ],
   "source": [
    "marks={}.fromkeys(['Maths','English','Science'])\n",
    "print(marks)\n",
    "for item in marks.items():\n",
    "            print(item)\n",
    "print(list(sorted(marks.keys())))"
   ]
  },
  {
   "cell_type": "code",
   "execution_count": 4,
   "id": "78d7f815",
   "metadata": {},
   "outputs": [
    {
     "name": "stdout",
     "output_type": "stream",
     "text": [
      "{'name': 'diz', 'age': 23}\n",
      "athwns\n"
     ]
    }
   ],
   "source": [
    "my_info={'name':'diz','age':23,'location':'athwns'}\n",
    "city=my_info.pop('location')\n",
    "print(my_info)\n",
    "print(city)\n"
   ]
  },
  {
   "cell_type": "code",
   "execution_count": 9,
   "id": "1689cf8c",
   "metadata": {},
   "outputs": [
    {
     "name": "stdout",
     "output_type": "stream",
     "text": [
      "{'child1': {'name': 'emil', 'year': 2004}, 'child2': {'name': 'tob', 'year': 2009}, 'child3': {'name': 'lin', 'year': 2011}}\n"
     ]
    }
   ],
   "source": [
    "dic={\n",
    "    \"child1\":{\n",
    "        \"name\":\"emil\",\n",
    "        \"year\":2004\n",
    "    },\n",
    "     \"child2\":{\n",
    "        \"name\":\"tob\",\n",
    "        \"year\":2009\n",
    "    },\n",
    "     \"child3\":{\n",
    "        \"name\":\"lin\",\n",
    "        \"year\":2011\n",
    "    }\n",
    "    \n",
    "}\n",
    "print(dic)"
   ]
  },
  {
   "cell_type": "code",
   "execution_count": 10,
   "id": "d2ae6042",
   "metadata": {},
   "outputs": [
    {
     "data": {
      "text/plain": [
       "'hello world'"
      ]
     },
     "execution_count": 10,
     "metadata": {},
     "output_type": "execute_result"
    }
   ],
   "source": [
    "str_1=\"hello world\"\n",
    "str_1"
   ]
  },
  {
   "cell_type": "code",
   "execution_count": 3,
   "id": "41784d17",
   "metadata": {},
   "outputs": [
    {
     "data": {
      "text/plain": [
       "'hello world'"
      ]
     },
     "execution_count": 3,
     "metadata": {},
     "output_type": "execute_result"
    }
   ],
   "source": [
    "str_2=\"hello \"+\"world\"\n",
    "str_2"
   ]
  },
  {
   "cell_type": "code",
   "execution_count": 4,
   "id": "3a07326a",
   "metadata": {},
   "outputs": [
    {
     "data": {
      "text/plain": [
       "'hellohellohello'"
      ]
     },
     "execution_count": 4,
     "metadata": {},
     "output_type": "execute_result"
    }
   ],
   "source": [
    "str_1*3"
   ]
  },
  {
   "cell_type": "code",
   "execution_count": 40,
   "id": "61c1361e",
   "metadata": {},
   "outputs": [
    {
     "data": {
      "text/plain": [
       "['1 2 3 4 5']"
      ]
     },
     "execution_count": 40,
     "metadata": {},
     "output_type": "execute_result"
    }
   ],
   "source": [
    "str_4=\"1 2 3 4 5\"\n",
    "str_5=\" \"\n",
    "str_5.split(\" \")\n",
    "str_4.split(\"  \")"
   ]
  },
  {
   "cell_type": "code",
   "execution_count": 43,
   "id": "32d1dd54",
   "metadata": {},
   "outputs": [
    {
     "data": {
      "text/plain": [
       "['1,2,3,4,5']"
      ]
     },
     "execution_count": 43,
     "metadata": {},
     "output_type": "execute_result"
    }
   ],
   "source": [
    "str5=\"1,2,3,4,5\"\n",
    "str5.split(\"   \")"
   ]
  },
  {
   "cell_type": "code",
   "execution_count": 11,
   "id": "f065e34e",
   "metadata": {},
   "outputs": [
    {
     "data": {
      "text/plain": [
       "'hello world'"
      ]
     },
     "execution_count": 11,
     "metadata": {},
     "output_type": "execute_result"
    }
   ],
   "source": [
    "str_1.replace(\"python\",\"world\")"
   ]
  },
  {
   "cell_type": "code",
   "execution_count": 12,
   "id": "8af575a4",
   "metadata": {},
   "outputs": [
    {
     "data": {
      "text/plain": [
       "'HELLO WORLD'"
      ]
     },
     "execution_count": 12,
     "metadata": {},
     "output_type": "execute_result"
    }
   ],
   "source": [
    "str_1.upper()"
   ]
  },
  {
   "cell_type": "code",
   "execution_count": 13,
   "id": "c66475cc",
   "metadata": {},
   "outputs": [
    {
     "data": {
      "text/plain": [
       "'hello world'"
      ]
     },
     "execution_count": 13,
     "metadata": {},
     "output_type": "execute_result"
    }
   ],
   "source": [
    "str_1.rstrip()"
   ]
  },
  {
   "cell_type": "code",
   "execution_count": 15,
   "id": "16da114d",
   "metadata": {},
   "outputs": [
    {
     "name": "stdout",
     "output_type": "stream",
     "text": [
      "True\n"
     ]
    }
   ],
   "source": [
    "txt=\"sandkjandw  dv free\"\n",
    "print(\"free\"in txt)"
   ]
  },
  {
   "cell_type": "code",
   "execution_count": 17,
   "id": "6569ee90",
   "metadata": {},
   "outputs": [
    {
     "name": "stdout",
     "output_type": "stream",
     "text": [
      "yes\n"
     ]
    }
   ],
   "source": [
    "txt=\"expensive is present\"\n",
    "if \"expensive\" not in txt:\n",
    "    print(\"No\")\n",
    "else :\n",
    "    print(\"yes\")"
   ]
  },
  {
   "cell_type": "code",
   "execution_count": 19,
   "id": "e20c7cab",
   "metadata": {},
   "outputs": [
    {
     "name": "stdout",
     "output_type": "stream",
     "text": [
      "llo\n",
      "hello\n",
      "llo, World!\n",
      "orl\n"
     ]
    }
   ],
   "source": [
    "b=\"Hello world!\"\n",
    "print(b[2:5])\n",
    "b1=\"hello, World!\"\n",
    "print(b1[:5])\n",
    "print(b1[2:])\n",
    "print(b1[-5:-2])"
   ]
  },
  {
   "cell_type": "code",
   "execution_count": 20,
   "id": "ec937e25",
   "metadata": {},
   "outputs": [
    {
     "data": {
      "text/plain": [
       "'HELLO WORLD!'"
      ]
     },
     "execution_count": 20,
     "metadata": {},
     "output_type": "execute_result"
    }
   ],
   "source": [
    "b.upper()"
   ]
  },
  {
   "cell_type": "code",
   "execution_count": 22,
   "id": "82881038",
   "metadata": {},
   "outputs": [
    {
     "name": "stdout",
     "output_type": "stream",
     "text": [
      "hello 35\n"
     ]
    }
   ],
   "source": [
    "age=35\n",
    "txt=\"hello \"+str(age)\n",
    "print(txt)"
   ]
  },
  {
   "cell_type": "code",
   "execution_count": 26,
   "id": "e63e045b",
   "metadata": {},
   "outputs": [
    {
     "name": "stdout",
     "output_type": "stream",
     "text": [
      "i want 37 peice of item 567 for 49.49 doller\n"
     ]
    }
   ],
   "source": [
    "quality=37\n",
    "item=567\n",
    "price=49.49\n",
    "myorder=\"i want {} peice of item {} for {} doller\"\n",
    "print(myorder.format(quality,item,price))"
   ]
  },
  {
   "cell_type": "code",
   "execution_count": 27,
   "id": "27b83c50",
   "metadata": {},
   "outputs": [
    {
     "name": "stdout",
     "output_type": "stream",
     "text": [
      "wrw 45\n"
     ]
    }
   ],
   "source": [
    "age=45\n",
    "name=str(age)\n",
    "my=\"wrw {}\"\n",
    "print(my.format(name))"
   ]
  },
  {
   "cell_type": "code",
   "execution_count": 29,
   "id": "a9ecae13",
   "metadata": {},
   "outputs": [
    {
     "name": "stdout",
     "output_type": "stream",
     "text": [
      "i want 49.49 peice of item 37 or 567doller\n"
     ]
    }
   ],
   "source": [
    "quality=37\n",
    "item=567\n",
    "price=49.49\n",
    "myorder=\"i want {2} peice of item {0} or {1}doller\"\n",
    "print(myorder.format(quality,item,price))"
   ]
  },
  {
   "cell_type": "code",
   "execution_count": 32,
   "id": "490f41b0",
   "metadata": {},
   "outputs": [
    {
     "name": "stdout",
     "output_type": "stream",
     "text": [
      "(5, 7, 8, 9) (1, 2, 3, 4)\n"
     ]
    }
   ],
   "source": [
    "list1=(1,2,3,4)\n",
    "list2=(5,7,8,9)\n",
    "list3=list1\n",
    "list1=list2\n",
    "list2=list3\n",
    "print(list1,list2)"
   ]
  },
  {
   "cell_type": "code",
   "execution_count": 35,
   "id": "6dcf85d0",
   "metadata": {},
   "outputs": [
    {
     "name": "stdout",
     "output_type": "stream",
     "text": [
      "9 231 30\n",
      "102 231 30\n"
     ]
    }
   ],
   "source": [
    "a,b,c=10,20,30\n",
    "def myfunc():\n",
    "    a,b=9,231\n",
    "    print(a,b,c)\n",
    "    def fun():\n",
    "        a=102\n",
    "        print(a,b,c)\n",
    "    fun()\n",
    "myfunc()"
   ]
  },
  {
   "cell_type": "code",
   "execution_count": 1,
   "id": "3ba4b773",
   "metadata": {},
   "outputs": [
    {
     "name": "stdout",
     "output_type": "stream",
     "text": [
      "started\n"
     ]
    }
   ],
   "source": [
    "class infant :\n",
    "    def walk(self):\n",
    "        print(\"started\")\n",
    "child=infant()\n",
    "child.walk()"
   ]
  },
  {
   "cell_type": "code",
   "execution_count": 4,
   "id": "941ffc5c",
   "metadata": {},
   "outputs": [
    {
     "name": "stdout",
     "output_type": "stream",
     "text": [
      "walk-mom\n",
      "2225600151216\n",
      "2225600151216\n"
     ]
    }
   ],
   "source": [
    "class mom():\n",
    "        def walk(self):\n",
    "            print(\"walk-mom\")\n",
    "            print(id(self))\n",
    "class infant(mom):\n",
    "    pass\n",
    "child=infant()\n",
    "child.walk()\n",
    "print(id(child))"
   ]
  },
  {
   "cell_type": "code",
   "execution_count": 10,
   "id": "6013ceb3",
   "metadata": {},
   "outputs": [
    {
     "name": "stdout",
     "output_type": "stream",
     "text": [
      "<class 'function'>\n",
      "<class 'method'>\n"
     ]
    }
   ],
   "source": [
    "class mom():\n",
    "        def walk(self):\n",
    "            print(\"walk-mom\")\n",
    "            print(id(self))\n",
    "mother=mom()\n",
    "print(type(mom.walk))\n",
    "print(type(mother.walk))"
   ]
  },
  {
   "cell_type": "code",
   "execution_count": 11,
   "id": "6307e751",
   "metadata": {},
   "outputs": [
    {
     "name": "stdout",
     "output_type": "stream",
     "text": [
      "global 10 local 110\n",
      "global 10\n"
     ]
    }
   ],
   "source": [
    "gvar=10\n",
    "class walk():\n",
    "    lvar=110\n",
    "    print(\"global\",gvar,\"local\",lvar)\n",
    "\n",
    "mother=mom ()\n",
    "print(\"global\",gvar)"
   ]
  },
  {
   "cell_type": "code",
   "execution_count": 12,
   "id": "4d0ee81c",
   "metadata": {},
   "outputs": [
    {
     "name": "stdout",
     "output_type": "stream",
     "text": [
      "{'__module__': '__main__', '__doc__': 'this is __doc__', 'lvar': 100, '__dict__': <attribute '__dict__' of 'Mom' objects>, '__weakref__': <attribute '__weakref__' of 'Mom' objects>}\n",
      "this is __doc__\n"
     ]
    }
   ],
   "source": [
    "class Mom():\n",
    "    \"this is __doc__\"\n",
    "    lvar=100\n",
    "'print(Mom.__dict__)\n",
    "print(Mom.__doc__)\n"
   ]
  },
  {
   "cell_type": "code",
   "execution_count": 16,
   "id": "37408554",
   "metadata": {},
   "outputs": [
    {
     "name": "stdout",
     "output_type": "stream",
     "text": [
      " i am public\n",
      "i am protected\n"
     ]
    }
   ],
   "source": [
    "class Example():\n",
    "    def __init__(self):\n",
    "        self.__private=\"i am private\"\n",
    "        self._protected=\"i am protected\"\n",
    "        self.public=\" i am public\"\n",
    "ob=Example()\n",
    "print(ob.public)\n",
    "print(ob._protected)\n",
    "#print(ob.__private)"
   ]
  },
  {
   "cell_type": "code",
   "execution_count": 17,
   "id": "4ca7e114",
   "metadata": {},
   "outputs": [
    {
     "name": "stdout",
     "output_type": "stream",
     "text": [
      "object cons\n",
      "object des\n"
     ]
    }
   ],
   "source": [
    "class example():\n",
    "    def __init__(self):\n",
    "        print(\"object cons\")\n",
    "    def __del__(self):\n",
    "        print(\"object des\")\n",
    "obj=example()\n",
    "del(obj)"
   ]
  },
  {
   "cell_type": "code",
   "execution_count": 37,
   "id": "e7c6e68c",
   "metadata": {},
   "outputs": [
    {
     "name": "stdout",
     "output_type": "stream",
     "text": [
      "2019 4 17\n",
      "2018 16 4\n",
      "2010 11 5\n",
      "2019\n",
      "2018\n",
      "2010\n"
     ]
    }
   ],
   "source": [
    "class Date:\n",
    "    def __init__(self,day,month,year):\n",
    "        self.year=year\n",
    "        self.month=month\n",
    "        self.day=day\n",
    "        \n",
    "    @classmethod\n",
    "    def myd(cls,month,year,day):\n",
    "        cls.day=day\n",
    "        cls.month=month\n",
    "        cls.year=year\n",
    "        return cls(cls.month,cls.day,cls.year)\n",
    "\n",
    "    @classmethod\n",
    "    def ydm(cls,year,day,month):\n",
    "        cls.day=day\n",
    "        cls.month=month\n",
    "        cls.year=year\n",
    "        return cls(cls.month,cls.day,cls.year)\n",
    "    \n",
    "d1=Date(17,4,2019)\n",
    "print(d1.year,d1.month,d1.day)\n",
    "d2=Date.myd(4,2018,16)\n",
    "print(d2.year,d2.month,d2.day)\n",
    "d3=Date.ydm(2010,11,5)\n",
    "print(d3.year,d3.month,d3.day)\n",
    "print(d1.year)\n",
    "print(d2.year)\n",
    "print(d3.year)"
   ]
  },
  {
   "cell_type": "code",
   "execution_count": null,
   "id": "7ecebca8",
   "metadata": {},
   "outputs": [],
   "source": []
  },
  {
   "cell_type": "code",
   "execution_count": null,
   "id": "5467b6c6",
   "metadata": {},
   "outputs": [],
   "source": []
  },
  {
   "cell_type": "code",
   "execution_count": null,
   "id": "a859e9ea",
   "metadata": {},
   "outputs": [],
   "source": []
  }
 ],
 "metadata": {
  "kernelspec": {
   "display_name": "Python 3 (ipykernel)",
   "language": "python",
   "name": "python3"
  },
  "language_info": {
   "codemirror_mode": {
    "name": "ipython",
    "version": 3
   },
   "file_extension": ".py",
   "mimetype": "text/x-python",
   "name": "python",
   "nbconvert_exporter": "python",
   "pygments_lexer": "ipython3",
   "version": "3.9.12"
  }
 },
 "nbformat": 4,
 "nbformat_minor": 5
}
